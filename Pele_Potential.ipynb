{
 "cells": [
  {
   "cell_type": "markdown",
   "metadata": {},
   "source": [
    "# Based on http://pele-python.github.io/pele/tutorial_potential.html#finding-pathways-tutorial"
   ]
  },
  {
   "cell_type": "markdown",
   "metadata": {},
   "source": [
    "## Creating Your Potential"
   ]
  },
  {
   "cell_type": "markdown",
   "metadata": {},
   "source": [
    "pele has a number of potentials built in, including the Lennard-Jones potential which is used for most of our examples. It also has an interface to the GMIN program with which you can access any myriad of GMIN’s built in potentials. We also plan to build interfaces to some of the standard molecular dynamics packages like gromacs and OpenMM.\n",
    "\n",
    "The flexibility of pele alows it to be easily used with just about any scalar function. Probably the biggest limitation is that, because we use a lot of gradient based local minimization you may experience problems if your potential is discontinuous."
   ]
  },
  {
   "cell_type": "markdown",
   "metadata": {},
   "source": [
    "## simple 1D potential"
   ]
  },
  {
   "cell_type": "markdown",
   "metadata": {},
   "source": [
    "Lets create an artificial potential from the sum of a parabola and a cosine term:"
   ]
  },
  {
   "cell_type": "code",
   "execution_count": 13,
   "metadata": {},
   "outputs": [],
   "source": [
    "from pele.potentials import BasePotential\n",
    "import numpy as np\n",
    "class My1DPot(BasePotential):\n",
    "    def getEnergy(x):\n",
    "        return np.cos(14.5 * x[0] - 0.3) + (x[0] + 0.2) * x[0]\n"
   ]
  },
  {
   "cell_type": "markdown",
   "metadata": {},
   "source": [
    "The above definition of member function getEnergy() is all that is required to use the global optimization features of pele. It is derived from BasePotential, which will calculate gradient numerically. However, Defining an analytical gradient will make things run a lot faster:"
   ]
  },
  {
   "cell_type": "code",
   "execution_count": 14,
   "metadata": {},
   "outputs": [],
   "source": [
    "from pele.potentials import BasePotential\n",
    "import numpy as np\n",
    "class My1DPot(BasePotential):\n",
    "    \"\"\"1d potential\"\"\"\n",
    "    def getEnergy(self, x):\n",
    "        return np.cos(14.5 * x[0] - 0.3) + (x[0] + 0.2) * x[0]\n",
    "\n",
    "    def getEnergyGradient(self, x):\n",
    "        E = self.getEnergy(x)\n",
    "        grad = np.array([-14.5 * np.sin(14.5 * x[0] - 0.3) + 2. * x[0] + 0.2])\n",
    "        return E, grad"
   ]
  },
  {
   "cell_type": "markdown",
   "metadata": {},
   "source": [
    "From this point you can jump in and use BasinHopping to find the global minimum. The best way to do this is to use the convience wrapper, the system class. As a first start, all we must do is tell the system class what our potential is"
   ]
  },
  {
   "cell_type": "code",
   "execution_count": 15,
   "metadata": {},
   "outputs": [],
   "source": [
    "from pele.systems import BaseSystem\n",
    "class My1DSystem(BaseSystem):\n",
    "    def get_potential(self):\n",
    "        return My1DPot()"
   ]
  },
  {
   "cell_type": "markdown",
   "metadata": {},
   "source": [
    "The following code will use the system class to initialize a basinhopping class and run basinhopping for 100 steps. We use an sqlite database to store the minima found:"
   ]
  },
  {
   "cell_type": "code",
   "execution_count": 18,
   "metadata": {},
   "outputs": [
    {
     "name": "stdout",
     "output_type": "stream",
     "text": [
      "will compute the lowest eigenvector by diagonalizing the Hessian\n",
      "Qu   0 E= 0.42591968109168876 quench_steps= 6 RMS= 1.2346449973499318e-09 Markov E= 1.1372082770759182 accepted= True\n",
      "Qu   1 E= -0.42166279553958996 quench_steps= 6 RMS= 7.647191456683355e-06 Markov E= 0.42591968109168876 accepted= True\n",
      "Qu   2 E= -0.4216627955397285 quench_steps= 6 RMS= 6.274860075983213e-10 Markov E= -0.42166279553958996 accepted= True\n",
      "Qu   3 E= -0.8972667196907541 quench_steps= 6 RMS= 3.4170399842992083e-10 Markov E= -0.4216627955397285 accepted= True\n",
      "Qu   4 E= -0.8972667196907355 quench_steps= 6 RMS= 2.8086741850619212e-06 Markov E= -0.8972667196907541 accepted= True\n",
      "Qu   5 E= -0.897266719690754 quench_steps= 7 RMS= 7.61706031582321e-10 Markov E= -0.8972667196907355 accepted= True\n",
      "Qu   6 E= -0.8972667196907081 quench_steps= 6 RMS= 4.410721827219355e-06 Markov E= -0.897266719690754 accepted= True\n",
      "Qu   7 E= -1.0008761844426532 quench_steps= 6 RMS= 9.795225759112736e-07 Markov E= -0.8972667196907081 accepted= True\n",
      "Qu   8 E= -1.000876184442655 quench_steps= 7 RMS= 4.850090429830978e-07 Markov E= -1.0008761844426532 accepted= True\n",
      "Qu   9 E= -1.0008761844426537 quench_steps= 7 RMS= 8.957876628801209e-07 Markov E= -1.000876184442655 accepted= True\n",
      "Qu   10 E= -1.0008761844426546 quench_steps= 5 RMS= 6.356004036423002e-07 Markov E= -1.0008761844426537 accepted= True\n",
      "Qu   11 E= -0.8972667196907541 quench_steps= 6 RMS= 4.0050679439573855e-10 Markov E= -1.0008761844426546 accepted= True\n",
      "Qu   12 E= -0.42166279553972874 quench_steps= 7 RMS= 2.7981189587578115e-10 Markov E= -0.8972667196907541 accepted= True\n",
      "Qu   13 E= -0.8972667196907411 quench_steps= 5 RMS= 2.334118743285707e-06 Markov E= -0.42166279553972874 accepted= True\n",
      "Qu   14 E= -0.42166279553972863 quench_steps= 8 RMS= 5.504690592239569e-10 Markov E= -0.8972667196907411 accepted= True\n",
      "Qu   15 E= 0.425919681091689 quench_steps= 6 RMS= 1.0559323970760204e-09 Markov E= -0.42166279553972863 accepted= False\n",
      "Qu   16 E= -0.4216627955397281 quench_steps= 7 RMS= 4.354095355929566e-07 Markov E= -0.42166279553972863 accepted= True\n",
      "Qu   17 E= -0.4216627955397285 quench_steps= 6 RMS= 4.936336950311926e-09 Markov E= -0.4216627955397281 accepted= True\n",
      "Qu   18 E= -0.42166279553972863 quench_steps= 6 RMS= 2.940004850682243e-09 Markov E= -0.4216627955397285 accepted= True\n",
      "Qu   19 E= -0.8972667196907541 quench_steps= 7 RMS= 2.3116403236045358e-10 Markov E= -0.42166279553972863 accepted= True\n",
      "Qu   20 E= -0.4216627955397285 quench_steps= 6 RMS= 2.0698104391536631e-07 Markov E= -0.8972667196907541 accepted= False\n",
      "Qu   21 E= -0.4216627955396821 quench_steps= 5 RMS= 4.429766278957192e-06 Markov E= -0.8972667196907541 accepted= True\n",
      "Qu   22 E= -0.8972667196907007 quench_steps= 5 RMS= 4.752084489578756e-06 Markov E= -0.4216627955396821 accepted= True\n",
      "Qu   23 E= -0.8972667196907036 quench_steps= 6 RMS= 4.623969412587137e-06 Markov E= -0.8972667196907007 accepted= True\n",
      "Qu   24 E= -0.8972667196907472 quench_steps= 7 RMS= 1.694911102190222e-06 Markov E= -0.8972667196907036 accepted= True\n",
      "Qu   25 E= -1.000876184442655 quench_steps= 7 RMS= 4.3054257412022956e-07 Markov E= -0.8972667196907472 accepted= True\n",
      "Qu   26 E= -1.0008761844425957 quench_steps= 6 RMS= 5.035814030052155e-06 Markov E= -1.000876184442655 accepted= True\n",
      "Qu   27 E= -0.8972667196907541 quench_steps= 6 RMS= 9.404943490665119e-11 Markov E= -1.0008761844425957 accepted= True\n",
      "Qu   28 E= -0.4216627955397285 quench_steps= 8 RMS= 4.5125594927419854e-09 Markov E= -0.8972667196907541 accepted= False\n",
      "Qu   29 E= -1.0008761844426555 quench_steps= 6 RMS= 1.328529147803792e-09 Markov E= -0.8972667196907541 accepted= True\n",
      "Qu   30 E= -0.7324877527700552 quench_steps= 7 RMS= 2.2874277419426825e-06 Markov E= -1.0008761844426555 accepted= True\n",
      "Qu   31 E= -0.7324877527700375 quench_steps= 5 RMS= 3.560649391609605e-06 Markov E= -0.7324877527700552 accepted= True\n",
      "Qu   32 E= -1.0008761844426555 quench_steps= 5 RMS= 4.781750856386324e-09 Markov E= -0.7324877527700375 accepted= True\n",
      "Qu   33 E= -0.8972667196907249 quench_steps= 7 RMS= 3.514139208571354e-06 Markov E= -1.0008761844426555 accepted= True\n",
      "Qu   34 E= -1.0008761844426555 quench_steps= 6 RMS= 6.78684330956969e-11 Markov E= -0.8972667196907249 accepted= True\n",
      "Qu   35 E= -1.0008761844426555 quench_steps= 6 RMS= 9.777487153250775e-11 Markov E= -1.0008761844426555 accepted= True\n",
      "Qu   36 E= -1.0008761844426552 quench_steps= 5 RMS= 3.345642692886841e-07 Markov E= -1.0008761844426555 accepted= True\n",
      "Qu   37 E= -0.7324877527700675 quench_steps= 6 RMS= 6.268356389504959e-10 Markov E= -1.0008761844426552 accepted= False\n",
      "Qu   38 E= -1.000876184442655 quench_steps= 7 RMS= 4.044569102967799e-07 Markov E= -1.0008761844426552 accepted= True\n",
      "Qu   39 E= -1.0008761844425358 quench_steps= 5 RMS= 7.129970985508827e-06 Markov E= -1.000876184442655 accepted= True\n",
      "Qu   40 E= -0.7324877527700315 quench_steps= 5 RMS= 3.9017112854478064e-06 Markov E= -1.0008761844425358 accepted= True\n",
      "Qu   41 E= -0.09211034862285117 quench_steps= 7 RMS= 3.132027195928977e-07 Markov E= -0.7324877527700315 accepted= False\n",
      "Qu   42 E= -1.000876184442655 quench_steps= 6 RMS= 4.778685855355569e-07 Markov E= -0.7324877527700315 accepted= True\n",
      "Qu   43 E= -1.000876184442653 quench_steps= 6 RMS= 1.0206295399384224e-06 Markov E= -1.000876184442655 accepted= True\n",
      "Qu   44 E= -1.0008761844426546 quench_steps= 7 RMS= 6.119391434411536e-07 Markov E= -1.000876184442653 accepted= True\n",
      "Qu   45 E= -0.8972667196907355 quench_steps= 5 RMS= 2.807642435764812e-06 Markov E= -1.0008761844426546 accepted= True\n",
      "Qu   46 E= -0.8972667196907529 quench_steps= 5 RMS= 7.032341126089747e-07 Markov E= -0.8972667196907355 accepted= True\n",
      "Qu   47 E= -0.8972667196907541 quench_steps= 6 RMS= 4.3557110696035295e-09 Markov E= -0.8972667196907529 accepted= True\n",
      "Qu   48 E= -0.4216627955395911 quench_steps= 6 RMS= 7.618543640564024e-06 Markov E= -0.8972667196907541 accepted= False\n",
      "Qu   49 E= -1.000876184442627 quench_steps= 5 RMS= 3.4777107550398867e-06 Markov E= -0.8972667196907541 accepted= True\n",
      "Qu   50 E= -0.7324877527700675 quench_steps= 6 RMS= 5.946910186516163e-10 Markov E= -1.000876184442627 accepted= True\n",
      "Qu   51 E= -1.000876184442655 quench_steps= 5 RMS= 3.8224879167492176e-07 Markov E= -0.7324877527700675 accepted= True\n",
      "Qu   52 E= -0.7324877527700675 quench_steps= 6 RMS= 2.1543820782898848e-08 Markov E= -1.000876184442655 accepted= True\n",
      "Qu   53 E= -0.09211034862285161 quench_steps= 6 RMS= 7.972977278392079e-10 Markov E= -0.7324877527700675 accepted= True\n",
      "Qu   54 E= -0.7324877527700675 quench_steps= 7 RMS= 8.214619345858765e-08 Markov E= -0.09211034862285161 accepted= True\n",
      "Qu   55 E= -0.0921103486228515 quench_steps= 7 RMS= 9.555339297584453e-10 Markov E= -0.7324877527700675 accepted= False\n",
      "Qu   56 E= -0.7324877527700655 quench_steps= 5 RMS= 8.920791248478999e-07 Markov E= -0.7324877527700675 accepted= True\n",
      "Qu   57 E= -0.09211034862285139 quench_steps= 7 RMS= 4.891843541354746e-09 Markov E= -0.7324877527700655 accepted= True\n",
      "Qu   58 E= 0.9202344590879233 quench_steps= 6 RMS= 8.274511631434223e-10 Markov E= -0.09211034862285139 accepted= True\n",
      "Qu   59 E= -0.09211034862285139 quench_steps= 7 RMS= 1.0325854060688755e-09 Markov E= 0.9202344590879233 accepted= True\n",
      "Qu   60 E= -0.7324877527700675 quench_steps= 6 RMS= 1.3291368561318961e-09 Markov E= -0.09211034862285139 accepted= True\n",
      "Qu   61 E= -0.7324877527700675 quench_steps= 6 RMS= 1.5844908163309412e-09 Markov E= -0.7324877527700675 accepted= True\n",
      "Qu   62 E= -0.09211034862284062 quench_steps= 6 RMS= 2.13684777300438e-06 Markov E= -0.7324877527700675 accepted= True\n",
      "Qu   63 E= -0.09211034862285139 quench_steps= 6 RMS= 4.59886280723687e-08 Markov E= -0.09211034862284062 accepted= True\n",
      "Qu   64 E= -0.09211034862285139 quench_steps= 6 RMS= 3.3968044488297267e-09 Markov E= -0.09211034862285139 accepted= True\n",
      "Qu   65 E= -0.7324877527700675 quench_steps= 7 RMS= 1.021654816302231e-09 Markov E= -0.09211034862285139 accepted= True\n",
      "Qu   66 E= -1.0008761844426555 quench_steps= 5 RMS= 2.430473072800865e-09 Markov E= -0.7324877527700675 accepted= True\n",
      "Qu   67 E= -0.7324877527700674 quench_steps= 8 RMS= 7.349316155647045e-10 Markov E= -1.0008761844426555 accepted= True\n",
      "Qu   68 E= -0.09211034862285139 quench_steps= 8 RMS= 5.070917574734324e-10 Markov E= -0.7324877527700674 accepted= False\n",
      "Qu   69 E= -0.09211034862285139 quench_steps= 6 RMS= 1.4397225078788267e-09 Markov E= -0.7324877527700674 accepted= False\n",
      "Qu   70 E= -1.0008761844426555 quench_steps= 7 RMS= 4.696358021916147e-08 Markov E= -0.7324877527700674 accepted= True\n",
      "Qu   71 E= -0.8972667196906843 quench_steps= 5 RMS= 5.441812376161259e-06 Markov E= -1.0008761844426555 accepted= True\n",
      "Qu   72 E= -0.4216627955397283 quench_steps= 5 RMS= 2.0541797901563186e-07 Markov E= -0.8972667196906843 accepted= False\n",
      "Qu   73 E= -1.0008761844426493 quench_steps= 6 RMS= 1.6298545709725332e-06 Markov E= -0.8972667196906843 accepted= True\n",
      "Qu   74 E= -0.897266719690754 quench_steps= 7 RMS= 3.5885616700426226e-10 Markov E= -1.0008761844426493 accepted= True\n",
      "Qu   75 E= -0.4216627955397262 quench_steps= 6 RMS= 9.739157511012841e-07 Markov E= -0.897266719690754 accepted= True\n",
      "Qu   76 E= -0.42166279553972863 quench_steps= 7 RMS= 1.8064233442416366e-10 Markov E= -0.4216627955397262 accepted= True\n",
      "Qu   77 E= -0.4216627955397285 quench_steps= 7 RMS= 4.894678551359277e-10 Markov E= -0.42166279553972863 accepted= True\n",
      "Qu   78 E= 0.42591968109182 quench_steps= 5 RMS= 7.411551933678151e-06 Markov E= -0.4216627955397285 accepted= True\n",
      "Qu   79 E= -0.42166279553972863 quench_steps= 7 RMS= 2.0560457947293997e-08 Markov E= 0.42591968109182 accepted= True\n",
      "Qu   80 E= 0.425919681091689 quench_steps= 6 RMS= 1.58345267453619e-08 Markov E= -0.42166279553972863 accepted= True\n",
      "Qu   81 E= -0.4216627955397285 quench_steps= 5 RMS= 4.857206609143461e-08 Markov E= 0.425919681091689 accepted= True\n",
      "Qu   82 E= 0.4259196810917263 quench_steps= 6 RMS= 3.954704295761058e-06 Markov E= -0.4216627955397285 accepted= True\n",
      "Qu   83 E= 1.6454518218071827 quench_steps= 6 RMS= 7.225741671668118e-10 Markov E= 0.4259196810917263 accepted= True\n",
      "Qu   84 E= 0.4259196810916892 quench_steps= 6 RMS= 1.2092845058653268e-09 Markov E= 1.6454518218071827 accepted= True\n",
      "Qu   85 E= -0.4216627955397013 quench_steps= 6 RMS= 3.392382156020002e-06 Markov E= 0.4259196810916892 accepted= True\n",
      "Qu   86 E= 0.4259196810916891 quench_steps= 6 RMS= 7.776140342752313e-09 Markov E= -0.4216627955397013 accepted= False\n",
      "Qu   87 E= -0.4216627955397285 quench_steps= 6 RMS= 1.822251438077238e-07 Markov E= -0.4216627955397013 accepted= True\n",
      "Qu   88 E= -0.42166279553972863 quench_steps= 6 RMS= 3.3727036163888613e-09 Markov E= -0.4216627955397285 accepted= True\n",
      "Qu   89 E= 0.4259196810916889 quench_steps= 7 RMS= 1.9476231183368498e-09 Markov E= -0.42166279553972863 accepted= False\n",
      "Qu   90 E= -0.897266719690754 quench_steps= 7 RMS= 8.534945528104743e-10 Markov E= -0.42166279553972863 accepted= True\n",
      "Qu   91 E= -1.0008761844426555 quench_steps= 6 RMS= 1.463715053884318e-07 Markov E= -0.897266719690754 accepted= True\n",
      "Qu   92 E= -0.8972667196907541 quench_steps= 6 RMS= 2.66028754580816e-10 Markov E= -1.0008761844426555 accepted= True\n",
      "Qu   93 E= -0.42166279553972863 quench_steps= 5 RMS= 1.7521737177839114e-07 Markov E= -0.8972667196907541 accepted= False\n",
      "Qu   94 E= -0.8972667196907539 quench_steps= 6 RMS= 2.4423777567061933e-07 Markov E= -0.8972667196907541 accepted= True\n",
      "Qu   95 E= -0.897266719690754 quench_steps= 8 RMS= 3.789321467717599e-09 Markov E= -0.8972667196907539 accepted= True\n",
      "Qu   96 E= -0.42166279553972863 quench_steps= 7 RMS= 3.1439807979261047e-09 Markov E= -0.897266719690754 accepted= False\n",
      "Qu   97 E= -0.4216627955397285 quench_steps= 5 RMS= 1.19045681035157e-07 Markov E= -0.897266719690754 accepted= True\n",
      "Qu   98 E= 0.4259196810916891 quench_steps= 6 RMS= 2.742198190741618e-09 Markov E= -0.4216627955397285 accepted= True\n",
      "Qu   99 E= -0.4216627955397285 quench_steps= 5 RMS= 1.7142598490726968e-07 Markov E= 0.4259196810916891 accepted= True\n",
      "Qu   100 E= 0.4259196810916889 quench_steps= 8 RMS= 4.594924274403667e-09 Markov E= -0.4216627955397285 accepted= True\n",
      "found 8 minima\n",
      "lowest minimum found at [-0.19506755] with energy -1.0008761844426532\n"
     ]
    }
   ],
   "source": [
    "system = My1DSystem()\n",
    "database = system.create_database()\n",
    "x0 = np.array([1.])\n",
    "bh = system.get_basinhopping(database=database, coords=x0)\n",
    "bh.run(100)\n",
    "print(\"found\", len(database.minima()), \"minima\")\n",
    "min0 = database.minima()[0]\n",
    "print(\"lowest minimum found at\", min0.coords, \"with energy\", min0.energy)"
   ]
  },
  {
   "cell_type": "code",
   "execution_count": null,
   "metadata": {},
   "outputs": [],
   "source": []
  }
 ],
 "metadata": {
  "kernelspec": {
   "display_name": "Python 3",
   "language": "python",
   "name": "python3"
  },
  "language_info": {
   "codemirror_mode": {
    "name": "ipython",
    "version": 3
   },
   "file_extension": ".py",
   "mimetype": "text/x-python",
   "name": "python",
   "nbconvert_exporter": "python",
   "pygments_lexer": "ipython3",
   "version": "3.8.3"
  }
 },
 "nbformat": 4,
 "nbformat_minor": 4
}
