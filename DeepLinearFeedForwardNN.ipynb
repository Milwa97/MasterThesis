{
 "cells": [
  {
   "cell_type": "markdown",
   "metadata": {},
   "source": [
    "## Kod w mniejszym lub większym stopniu wzorowany na kodzie z laboratorium 9,10 na Nauczaniu maszynowym, WMI, UJ, 2019/20, semestr zimowy\n",
    "\n",
    "Feedforward neural network\n",
    "trained on MINIST dataset"
   ]
  },
  {
   "cell_type": "code",
   "execution_count": 1,
   "metadata": {},
   "outputs": [],
   "source": [
    "import numpy as np\n",
    "import torch\n",
    "import torchvision\n",
    "import matplotlib.pyplot as plt\n",
    "import torch.nn as nn\n",
    "\n",
    "from typing import Tuple\n",
    "from typing import List\n",
    "from copy import deepcopy, copy"
   ]
  },
  {
   "cell_type": "code",
   "execution_count": null,
   "metadata": {},
   "outputs": [],
   "source": [
    "from torchvision import transforms\n",
    "from torchvision.datasets import MNIST\n",
    "from torchvision.transforms import Lambda\n",
    "from torchvision.transforms import Compose, ToTensor"
   ]
  },
  {
   "cell_type": "markdown",
   "metadata": {},
   "source": [
    "## download data to calculate mean and std"
   ]
  },
  {
   "cell_type": "code",
   "execution_count": null,
   "metadata": {},
   "outputs": [],
   "source": [
    "train_data = MNIST(\n",
    "    root='.',\n",
    "    download=True,\n",
    "    train=True, \n",
    "    )\n",
    "\n",
    "test_data = MNIST(\n",
    "    root='.',\n",
    "    download=True,\n",
    "    train=False, \n",
    ")\n",
    "\n",
    "\n",
    "train_data.data = (train_data.data/255.0)  \n",
    "test_data.data = (test_data.data/255.0)\n",
    "\n",
    "\n",
    "def calculate_mean_and_std() -> Tuple[float, float]:\n",
    "    mean = train_data.data.mean()\n",
    "    std = train_data.data.std()\n",
    "    return mean, std\n",
    "\n",
    "mean, std = calculate_mean_and_std()"
   ]
  },
  {
   "cell_type": "markdown",
   "metadata": {},
   "source": [
    "## Download data once again + normalization and shape transformation using mean and std"
   ]
  },
  {
   "cell_type": "code",
   "execution_count": null,
   "metadata": {},
   "outputs": [],
   "source": [
    "transform = transforms.Compose([\n",
    "        transforms.ToTensor(), \n",
    "        transforms.Lambda(lambda x: x.view(784)),\n",
    "        transforms.Lambda(lambda x: (x-mean)/std),       \n",
    "]) \n",
    "\n",
    "train_data = MNIST(\n",
    "    root = '.', \n",
    "    download = True, \n",
    "    train = True, \n",
    "    transform = transform\n",
    ")\n",
    "\n",
    "test_data = MNIST(\n",
    "    root='.',\n",
    "    download=True,\n",
    "    train=False, \n",
    "    transform = transform\n",
    ")"
   ]
  },
  {
   "cell_type": "markdown",
   "metadata": {},
   "source": [
    "## Loader + check on if it works: x,y - sample bath. \n",
    "\n",
    "we may check that mean each x is a normalized vectof of dimenstion 784,\n",
    "for example x[1].std(), x[1].mean()"
   ]
  },
  {
   "cell_type": "code",
   "execution_count": null,
   "metadata": {},
   "outputs": [],
   "source": [
    "train_loader = torch.utils.data.DataLoader(train_data, batch_size=100)\n",
    "x,y = next(iter(train_loader))\n",
    "\n",
    "assert len(x.shape) == 2\n",
    "assert x.shape == (100, 784)"
   ]
  },
  {
   "cell_type": "code",
   "execution_count": null,
   "metadata": {},
   "outputs": [],
   "source": [
    "print(x.shape)\n",
    "print(y.shape)\n",
    "\n",
    "print(\"Checking, whether normalization in transforms is working.\")\n",
    "\n",
    "for i in range(100):\n",
    "    if i%7==0:\n",
    "        print(\"Sample image in bath size:\\t mean(x) = {:}\\t std(x)={:}\".format(x[i].mean(), x[i].std()))"
   ]
  },
  {
   "cell_type": "code",
   "execution_count": null,
   "metadata": {},
   "outputs": [],
   "source": [
    "train_data.data.size()"
   ]
  },
  {
   "cell_type": "markdown",
   "metadata": {},
   "source": [
    "## Neural network"
   ]
  },
  {
   "cell_type": "code",
   "execution_count": null,
   "metadata": {},
   "outputs": [],
   "source": [
    "class CustomNetwork(object):\n",
    "    \n",
    "    \"\"\"\n",
    "    Simple D-layer linear neural network \n",
    "    hidden_dims = topule(n0, n1, n2, ...nD)\n",
    "    n0 = input layer\n",
    "    n_D = output layer\n",
    "    \"\"\"\n",
    "    \n",
    "    def __init__(self, D, layers_dim):\n",
    "        \n",
    "        \"\"\"\n",
    "        Initialize network's weights according to Gaussian iid and network's biases with 0.0 values\n",
    "        \"\"\"\n",
    "        \n",
    "        self.weights = []\n",
    "        self.biases = []\n",
    "        \n",
    "        self.D = len(layers_dim)-1\n",
    "        assert self.D == D\n",
    "        \n",
    "        print(\"Depth of the network = number of hidden layers + 1:\", D)\n",
    "        \n",
    "        for i in range(self.D):\n",
    "            \n",
    "            weight: torch.Tensor = torch.randn((layers_dim[i+1], layers_dim[i]) )\n",
    "            bias: torch.Tensor = torch.zeros(layers_dim[i+1])  \n",
    "            \n",
    "            weight.requires_grad = True\n",
    "            bias.requires_grad = True\n",
    "            \n",
    "            self.weights.append(weight)\n",
    "            self.biases.append(bias)\n",
    "                          \n",
    "            \n",
    "    def __call__(self, x: torch.Tensor) -> torch.Tensor:\n",
    "        \"\"\"\n",
    "        Forward pass through the network\n",
    "        \"\"\"\n",
    "        \n",
    "        fl = torch.tanh( torch.matmul(x, self.weights[0].T) + self.biases[0])       \n",
    "        for i in range(1,self.D):            \n",
    "            out = torch.tanh( torch.matmul(fl, self.weights[i].T) + self.biases[i])\n",
    "            fl = out\n",
    "        return out\n",
    "    \n",
    "    \n",
    "    def parameters(self) -> List[torch.Tensor]:\n",
    "        \"\"\"\n",
    "        Returns all trainable parameters \n",
    "        \"\"\"\n",
    "        return self.weights+self.biases"
   ]
  },
  {
   "cell_type": "code",
   "execution_count": null,
   "metadata": {},
   "outputs": [],
   "source": [
    "from torch import nn\n",
    "from torch.optim import SGD\n",
    "from torch.nn.functional import cross_entropy\n",
    "\n",
    "\n",
    "input_dim = 784\n",
    "output_dim = 10\n",
    "D = 3\n",
    "\n",
    "# initialize the model\n",
    "model: CustomNetwork = CustomNetwork(D = D, layers_dim = (input_dim, 100, 50, output_dim))\n",
    "\n",
    "    \n",
    "# initialize the optimizer using the hyperparams below\n",
    "lr: float = 0.005\n",
    "momentum: float = 0.99\n",
    "optimizer: torch.optim.Optimizer = SGD(params = model.parameters(), lr=lr, momentum = momentum)\n",
    "criterion = nn.CrossEntropyLoss()"
   ]
  },
  {
   "cell_type": "markdown",
   "metadata": {},
   "source": [
    "## Training loop"
   ]
  },
  {
   "cell_type": "code",
   "execution_count": null,
   "metadata": {},
   "outputs": [],
   "source": [
    "# some hyperparams\n",
    "batch_size: int = 6000\n",
    "epoch: int = 250\n",
    "    \n",
    "    \n",
    "# prepare data loaders, based on the already loaded datasets\n",
    "train_loader = torch.utils.data.DataLoader(train_data, batch_size=batch_size)\n",
    "test_loader = torch.utils.data.DataLoader(test_data, batch_size=batch_size)\n",
    "\n",
    "\n",
    "loss_tab = []\n",
    "test_accuracy_tab = []\n",
    "parameter_tab =[]\n",
    "\n",
    "\n",
    "for e in range(epoch):   \n",
    "    \n",
    "    for i, (x, y) in enumerate(train_loader):\n",
    "        # reset the gradients from previouis iteration\n",
    "        optimizer.zero_grad()\n",
    "\n",
    "        # pass through the network\n",
    "        output: torch.Tensor = model(x)        \n",
    "        loss: torch.Tensor = criterion(output, y)\n",
    "                \n",
    "        # backward pass thorught the network\n",
    "        loss.backward()\n",
    "        \n",
    "        # apply the gradients\n",
    "        optimizer.step()\n",
    "  \n",
    "        # log the loss value\n",
    "        if (i + 1) % 100 == 0:\n",
    "            print(f\"Epoch {e} iter {i+1}/{len(train_data) // batch_size} loss: {loss.item()}\", end=\"\\r\")           \n",
    "            \n",
    "    \n",
    "    ## at the end of an epoch save weights, biasses and loss on training set\n",
    "    loss_tab.append(loss.item())\n",
    "    \n",
    "    print(\"\\n\\n\\nepoch e={:}\\t iteration i={:}\\t model parameters = {:}\".format(e,i, model.parameters()))    \n",
    "    parameter_tab.append(deepcopy(model.parameters()))\n",
    "    \n",
    "    \n",
    "    # at the end of an epoch run evaluation on the test set\n",
    "    with torch.no_grad():\n",
    "        # initialize the number of correct predictions\n",
    "        correct: int = 0 \n",
    "        for i, (x, y) in enumerate(test_loader):\n",
    "            # pass through the network            \n",
    "            output: torch.Tensor = model(x)\n",
    "            \n",
    "            # update the number of correctly predicted examples\n",
    "            pred_labels = torch.argmax(output, 1)\n",
    "            correct += ( (pred_labels -y) ==0).sum()\n",
    "        \n",
    "        test_accuracy_tab.append( float(correct) / len(test_data))\n",
    "        print(f\"\\n\\n\\nTest accuracy: {float(correct) / len(test_data)}\")\n",
    "\n",
    "     "
   ]
  },
  {
   "cell_type": "code",
   "execution_count": null,
   "metadata": {},
   "outputs": [],
   "source": [
    "fig, axs = plt.subplots(1, 2, figsize = (15,5))\n",
    "\n",
    "axs[0].plot(loss_tab)\n",
    "axs[1].plot(test_accuracy_tab)\n",
    "\n",
    "axs[0].set_xlabel('epoch')\n",
    "axs[0].set_ylabel('loss')\n",
    "axs[0].grid(True)\n",
    "\n",
    "axs[1].set_xlabel('epoch')\n",
    "axs[1].set_ylabel('test accuracy')\n",
    "axs[1].grid(True)\n",
    "\n",
    "plt.show()\n"
   ]
  },
  {
   "cell_type": "markdown",
   "metadata": {},
   "source": [
    "## weights/ biases analysis\n",
    "\n",
    "parameter_tab is a list of lenght = number of epochs, each item consists of weights and biases values in the given iteration. For D = 3 it is\n",
    "$$parameter\\_tab[0] = [weights_1, weights_2, weights_3, biases_1, biases_2, biases_3 ]$$\n",
    "\n",
    "the dimesnion of each item is determinated by the architecture of our neural network. In general:\n",
    "$dim(weights_1)\\neq dim(weights_2)$  and $dim(biases_1)\\neq dim(biases_2)$ "
   ]
  },
  {
   "cell_type": "markdown",
   "metadata": {},
   "source": [
    "layers: 784, 10, 5, 10"
   ]
  },
  {
   "cell_type": "code",
   "execution_count": null,
   "metadata": {},
   "outputs": [],
   "source": [
    "len(parameter_tab)"
   ]
  },
  {
   "cell_type": "code",
   "execution_count": null,
   "metadata": {},
   "outputs": [],
   "source": [
    "len(parameter_tab[0])"
   ]
  },
  {
   "cell_type": "code",
   "execution_count": null,
   "metadata": {
    "scrolled": true
   },
   "outputs": [],
   "source": [
    "params = parameter_tab[1]\n",
    "\n",
    "w1 = params[0]\n",
    "w2 = params[1]\n",
    "w3 = params[2]\n",
    "b1 = params[3]\n",
    "b2 = params[4]\n",
    "b3 = params[5]\n",
    "\n",
    "print(\"size: w1 = {:}\\tw2 = {:}\\tw3 = {:}\".format(w1.size(), w2.size(), w3.size() ))\n",
    "print(\"size: b1 = {:}\\tb2 = {:}\\tb3 = {:}\".format(b1.size(), b2.size(), b3.size() ))\n",
    "print(\"\\nb1 = \", b1)\n",
    "print(\"\\nb2 = \", b2)\n",
    "print(\"\\nb3 = \", b3)"
   ]
  },
  {
   "cell_type": "code",
   "execution_count": null,
   "metadata": {},
   "outputs": [],
   "source": [
    "params = parameter_tab[1]\n",
    "\n",
    "w1 = params[0]\n",
    "w2 = params[1]\n",
    "w3 = params[2]\n",
    "b1 = params[3]\n",
    "b2 = params[4]\n",
    "b3 = params[5]\n",
    "\n",
    "print(\"size: w1 = {:}\\tw2 = {:}\\tw3 = {:}\".format(w1.size(), w2.size(), w3.size() ))\n",
    "print(\"size: b1 = {:}\\tb2 = {:}\\tb3 = {:}\".format(b1.size(), b2.size(), b3.size() ))\n",
    "print(\"\\nb1 = \", b1)\n",
    "print(\"\\nb2 = \", b2)\n",
    "print(\"\\nb3 = \", b3)"
   ]
  },
  {
   "cell_type": "code",
   "execution_count": null,
   "metadata": {},
   "outputs": [],
   "source": [
    "params = parameter_tab[37]\n",
    "\n",
    "w1 = params[0]\n",
    "w2 = params[1]\n",
    "w3 = params[2]\n",
    "b1 = params[3]\n",
    "b2 = params[4]\n",
    "b3 = params[5]\n",
    "\n",
    "print(\"size: w1 = {:}\\tw2 = {:}\\tw3 = {:}\".format(w1.size(), w2.size(), w3.size() ))\n",
    "print(\"size: b1 = {:}\\tb2 = {:}\\tb3 = {:}\".format(b1.size(), b2.size(), b3.size() ))\n",
    "print(\"\\nb1 = \", b1)\n",
    "print(\"\\nb2 = \", b2)\n",
    "print(\"\\nb3 = \", b3)"
   ]
  },
  {
   "cell_type": "code",
   "execution_count": null,
   "metadata": {},
   "outputs": [],
   "source": []
  }
 ],
 "metadata": {
  "kernelspec": {
   "display_name": "Python 3",
   "language": "python",
   "name": "python3"
  },
  "language_info": {
   "codemirror_mode": {
    "name": "ipython",
    "version": 3
   },
   "file_extension": ".py",
   "mimetype": "text/x-python",
   "name": "python",
   "nbconvert_exporter": "python",
   "pygments_lexer": "ipython3",
   "version": "3.8.3"
  }
 },
 "nbformat": 4,
 "nbformat_minor": 4
}
